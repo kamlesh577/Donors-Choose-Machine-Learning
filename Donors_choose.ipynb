{
  "nbformat": 4,
  "nbformat_minor": 0,
  "metadata": {
    "colab": {
      "name": "Donors_choose.ipynb",
      "provenance": [],
      "collapsed_sections": []
    },
    "kernelspec": {
      "display_name": "Python 3",
      "language": "python",
      "name": "python3"
    },
    "language_info": {
      "codemirror_mode": {
        "name": "ipython",
        "version": 3
      },
      "file_extension": ".py",
      "mimetype": "text/x-python",
      "name": "python",
      "nbconvert_exporter": "python",
      "pygments_lexer": "ipython3",
      "version": "3.7.6"
    }
  },
  "cells": [
    {
      "cell_type": "code",
      "metadata": {
        "id": "0fqBzNSMfKMS"
      },
      "source": [
        "%matplotlib inline\n",
        "import warnings\n",
        "warnings.filterwarnings(\"ignore\")\n",
        "\n",
        "import sqlite3\n",
        "import pandas as pd\n",
        "import numpy as np\n",
        "import nltk\n",
        "import string\n",
        "import matplotlib.pyplot as plt\n",
        "import seaborn as sns\n",
        "from sklearn.feature_extraction.text import TfidfTransformer\n",
        "from sklearn.feature_extraction.text import TfidfVectorizer\n",
        "\n",
        "from sklearn.feature_extraction.text import CountVectorizer\n",
        "from sklearn.metrics import confusion_matrix\n",
        "from sklearn import metrics\n",
        "from sklearn.metrics import roc_curve, auc\n",
        "from nltk.stem.porter import PorterStemmer\n",
        "\n",
        "import re\n",
        "# Tutorial about Python regular expressions: https://pymotw.com/2/re/\n",
        "import string\n",
        "from nltk.corpus import stopwords\n",
        "from nltk.stem import PorterStemmer\n",
        "from nltk.stem.wordnet import WordNetLemmatizer\n",
        "\n",
        "from gensim.models import Word2Vec\n",
        "from gensim.models import KeyedVectors\n",
        "import pickle\n",
        "\n",
        "from tqdm import tqdm\n",
        "import os\n",
        "\n",
        "\n",
        "from collections import Counter"
      ],
      "execution_count": null,
      "outputs": []
    },
    {
      "cell_type": "code",
      "metadata": {
        "id": "hzyb4fjrfLPm",
        "outputId": "f5cdd711-833a-4fc6-83eb-115bb67583bc",
        "colab": {
          "resources": {
            "http://localhost:8080/nbextensions/google.colab/files.js": {
              "data": "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",
              "ok": true,
              "headers": [
                [
                  "content-type",
                  "application/javascript"
                ]
              ],
              "status": 200,
              "status_text": ""
            }
          },
          "base_uri": "https://localhost:8080/",
          "height": 74
        }
      },
      "source": [
        "from google.colab import files\n",
        "uploaded = files.upload()"
      ],
      "execution_count": null,
      "outputs": [
        {
          "output_type": "display_data",
          "data": {
            "text/html": [
              "\n",
              "     <input type=\"file\" id=\"files-cf1d0c22-fe0d-4201-9d06-a3164d55c874\" name=\"files[]\" multiple disabled />\n",
              "     <output id=\"result-cf1d0c22-fe0d-4201-9d06-a3164d55c874\">\n",
              "      Upload widget is only available when the cell has been executed in the\n",
              "      current browser session. Please rerun this cell to enable.\n",
              "      </output>\n",
              "      <script src=\"/nbextensions/google.colab/files.js\"></script> "
            ],
            "text/plain": [
              "<IPython.core.display.HTML object>"
            ]
          },
          "metadata": {
            "tags": []
          }
        },
        {
          "output_type": "stream",
          "text": [
            "Saving preprocessed_data.csv to preprocessed_data.csv\n"
          ],
          "name": "stdout"
        }
      ]
    },
    {
      "cell_type": "markdown",
      "metadata": {
        "id": "FYqCIxzFb3c5"
      },
      "source": [
        "## 1.1 Loading Data"
      ]
    },
    {
      "cell_type": "code",
      "metadata": {
        "id": "dA1jknyqb3c_",
        "outputId": "19e7c2da-a8b5-456b-df03-2be53b611815",
        "colab": {
          "base_uri": "https://localhost:8080/",
          "height": 649
        }
      },
      "source": [
        "data = pd.read_csv('preprocessed_data.csv')\n",
        "data.head(5)"
      ],
      "execution_count": null,
      "outputs": [
        {
          "output_type": "execute_result",
          "data": {
            "text/html": [
              "<div>\n",
              "<style scoped>\n",
              "    .dataframe tbody tr th:only-of-type {\n",
              "        vertical-align: middle;\n",
              "    }\n",
              "\n",
              "    .dataframe tbody tr th {\n",
              "        vertical-align: top;\n",
              "    }\n",
              "\n",
              "    .dataframe thead th {\n",
              "        text-align: right;\n",
              "    }\n",
              "</style>\n",
              "<table border=\"1\" class=\"dataframe\">\n",
              "  <thead>\n",
              "    <tr style=\"text-align: right;\">\n",
              "      <th></th>\n",
              "      <th>school_state</th>\n",
              "      <th>teacher_prefix</th>\n",
              "      <th>project_grade_category</th>\n",
              "      <th>teacher_number_of_previously_posted_projects</th>\n",
              "      <th>project_is_approved</th>\n",
              "      <th>clean_categories</th>\n",
              "      <th>clean_subcategories</th>\n",
              "      <th>essay</th>\n",
              "      <th>price</th>\n",
              "    </tr>\n",
              "  </thead>\n",
              "  <tbody>\n",
              "    <tr>\n",
              "      <th>0</th>\n",
              "      <td>ca</td>\n",
              "      <td>mrs</td>\n",
              "      <td>grades_prek_2</td>\n",
              "      <td>53</td>\n",
              "      <td>1</td>\n",
              "      <td>math_science</td>\n",
              "      <td>appliedsciences health_lifescience</td>\n",
              "      <td>i fortunate enough use fairy tale stem kits cl...</td>\n",
              "      <td>725.05</td>\n",
              "    </tr>\n",
              "    <tr>\n",
              "      <th>1</th>\n",
              "      <td>ut</td>\n",
              "      <td>ms</td>\n",
              "      <td>grades_3_5</td>\n",
              "      <td>4</td>\n",
              "      <td>1</td>\n",
              "      <td>specialneeds</td>\n",
              "      <td>specialneeds</td>\n",
              "      <td>imagine 8 9 years old you third grade classroo...</td>\n",
              "      <td>213.03</td>\n",
              "    </tr>\n",
              "    <tr>\n",
              "      <th>2</th>\n",
              "      <td>ca</td>\n",
              "      <td>mrs</td>\n",
              "      <td>grades_prek_2</td>\n",
              "      <td>10</td>\n",
              "      <td>1</td>\n",
              "      <td>literacy_language</td>\n",
              "      <td>literacy</td>\n",
              "      <td>having class 24 students comes diverse learner...</td>\n",
              "      <td>329.00</td>\n",
              "    </tr>\n",
              "    <tr>\n",
              "      <th>3</th>\n",
              "      <td>ga</td>\n",
              "      <td>mrs</td>\n",
              "      <td>grades_prek_2</td>\n",
              "      <td>2</td>\n",
              "      <td>1</td>\n",
              "      <td>appliedlearning</td>\n",
              "      <td>earlydevelopment</td>\n",
              "      <td>i recently read article giving students choice...</td>\n",
              "      <td>481.04</td>\n",
              "    </tr>\n",
              "    <tr>\n",
              "      <th>4</th>\n",
              "      <td>wa</td>\n",
              "      <td>mrs</td>\n",
              "      <td>grades_3_5</td>\n",
              "      <td>2</td>\n",
              "      <td>1</td>\n",
              "      <td>literacy_language</td>\n",
              "      <td>literacy</td>\n",
              "      <td>my students crave challenge eat obstacles brea...</td>\n",
              "      <td>17.74</td>\n",
              "    </tr>\n",
              "  </tbody>\n",
              "</table>\n",
              "</div>"
            ],
            "text/plain": [
              "  school_state  ...   price\n",
              "0           ca  ...  725.05\n",
              "1           ut  ...  213.03\n",
              "2           ca  ...  329.00\n",
              "3           ga  ...  481.04\n",
              "4           wa  ...   17.74\n",
              "\n",
              "[5 rows x 9 columns]"
            ]
          },
          "metadata": {
            "tags": []
          },
          "execution_count": 19
        }
      ]
    },
    {
      "cell_type": "code",
      "metadata": {
        "id": "a6e5Ge0EmRcS"
      },
      "source": [
        "\n",
        "from collections import Counter\n",
        "my_counter = Counter()\n",
        "for word in data['clean_categories'].values:\n",
        "    my_counter.update(word.split())\n",
        "\n",
        "cat_dict = dict(my_counter)\n",
        "sorted_cat_dict = dict(sorted(cat_dict.items(), key=lambda kv: kv[1]))"
      ],
      "execution_count": null,
      "outputs": []
    },
    {
      "cell_type": "code",
      "metadata": {
        "id": "LUFwhDqahKiu",
        "outputId": "706b7457-f41d-4d9c-8705-202bfe02fa1e",
        "colab": {
          "base_uri": "https://localhost:8080/",
          "height": 119
        }
      },
      "source": [
        "print(\"Number of data points in train data\\n\", data.shape)\n",
        "\n",
        "print(\"\\nThe attributes of data :\", data.columns.values)"
      ],
      "execution_count": null,
      "outputs": [
        {
          "output_type": "stream",
          "text": [
            "Number of data points in train data\n",
            " (109248, 9)\n",
            "\n",
            "The attributes of data : ['school_state' 'teacher_prefix' 'project_grade_category'\n",
            " 'teacher_number_of_previously_posted_projects' 'project_is_approved'\n",
            " 'clean_categories' 'clean_subcategories' 'essay' 'price']\n"
          ],
          "name": "stdout"
        }
      ]
    },
    {
      "cell_type": "code",
      "metadata": {
        "id": "bgq_WnythKtp",
        "outputId": "10b6a6f7-3b71-4aae-931c-8fe0f3b3c79e",
        "colab": {
          "base_uri": "https://localhost:8080/",
          "height": 884
        }
      },
      "source": [
        "print(\"Number of data points in train data \\n\", data.shape)\n",
        "print(\"\\n\",data.columns.values)\n",
        "data.head(6)"
      ],
      "execution_count": null,
      "outputs": [
        {
          "output_type": "stream",
          "text": [
            "Number of data points in train data \n",
            " (109248, 9)\n",
            "\n",
            " ['school_state' 'teacher_prefix' 'project_grade_category'\n",
            " 'teacher_number_of_previously_posted_projects' 'project_is_approved'\n",
            " 'clean_categories' 'clean_subcategories' 'essay' 'price']\n"
          ],
          "name": "stdout"
        },
        {
          "output_type": "execute_result",
          "data": {
            "text/html": [
              "<div>\n",
              "<style scoped>\n",
              "    .dataframe tbody tr th:only-of-type {\n",
              "        vertical-align: middle;\n",
              "    }\n",
              "\n",
              "    .dataframe tbody tr th {\n",
              "        vertical-align: top;\n",
              "    }\n",
              "\n",
              "    .dataframe thead th {\n",
              "        text-align: right;\n",
              "    }\n",
              "</style>\n",
              "<table border=\"1\" class=\"dataframe\">\n",
              "  <thead>\n",
              "    <tr style=\"text-align: right;\">\n",
              "      <th></th>\n",
              "      <th>school_state</th>\n",
              "      <th>teacher_prefix</th>\n",
              "      <th>project_grade_category</th>\n",
              "      <th>teacher_number_of_previously_posted_projects</th>\n",
              "      <th>project_is_approved</th>\n",
              "      <th>clean_categories</th>\n",
              "      <th>clean_subcategories</th>\n",
              "      <th>essay</th>\n",
              "      <th>price</th>\n",
              "    </tr>\n",
              "  </thead>\n",
              "  <tbody>\n",
              "    <tr>\n",
              "      <th>0</th>\n",
              "      <td>ca</td>\n",
              "      <td>mrs</td>\n",
              "      <td>grades_prek_2</td>\n",
              "      <td>53</td>\n",
              "      <td>1</td>\n",
              "      <td>math_science</td>\n",
              "      <td>appliedsciences health_lifescience</td>\n",
              "      <td>i fortunate enough use fairy tale stem kits cl...</td>\n",
              "      <td>725.05</td>\n",
              "    </tr>\n",
              "    <tr>\n",
              "      <th>1</th>\n",
              "      <td>ut</td>\n",
              "      <td>ms</td>\n",
              "      <td>grades_3_5</td>\n",
              "      <td>4</td>\n",
              "      <td>1</td>\n",
              "      <td>specialneeds</td>\n",
              "      <td>specialneeds</td>\n",
              "      <td>imagine 8 9 years old you third grade classroo...</td>\n",
              "      <td>213.03</td>\n",
              "    </tr>\n",
              "    <tr>\n",
              "      <th>2</th>\n",
              "      <td>ca</td>\n",
              "      <td>mrs</td>\n",
              "      <td>grades_prek_2</td>\n",
              "      <td>10</td>\n",
              "      <td>1</td>\n",
              "      <td>literacy_language</td>\n",
              "      <td>literacy</td>\n",
              "      <td>having class 24 students comes diverse learner...</td>\n",
              "      <td>329.00</td>\n",
              "    </tr>\n",
              "    <tr>\n",
              "      <th>3</th>\n",
              "      <td>ga</td>\n",
              "      <td>mrs</td>\n",
              "      <td>grades_prek_2</td>\n",
              "      <td>2</td>\n",
              "      <td>1</td>\n",
              "      <td>appliedlearning</td>\n",
              "      <td>earlydevelopment</td>\n",
              "      <td>i recently read article giving students choice...</td>\n",
              "      <td>481.04</td>\n",
              "    </tr>\n",
              "    <tr>\n",
              "      <th>4</th>\n",
              "      <td>wa</td>\n",
              "      <td>mrs</td>\n",
              "      <td>grades_3_5</td>\n",
              "      <td>2</td>\n",
              "      <td>1</td>\n",
              "      <td>literacy_language</td>\n",
              "      <td>literacy</td>\n",
              "      <td>my students crave challenge eat obstacles brea...</td>\n",
              "      <td>17.74</td>\n",
              "    </tr>\n",
              "    <tr>\n",
              "      <th>5</th>\n",
              "      <td>ca</td>\n",
              "      <td>mrs</td>\n",
              "      <td>grades_3_5</td>\n",
              "      <td>6</td>\n",
              "      <td>1</td>\n",
              "      <td>math_science history_civics</td>\n",
              "      <td>mathematics socialsciences</td>\n",
              "      <td>it end school year routines run course student...</td>\n",
              "      <td>102.50</td>\n",
              "    </tr>\n",
              "  </tbody>\n",
              "</table>\n",
              "</div>"
            ],
            "text/plain": [
              "  school_state  ...   price\n",
              "0           ca  ...  725.05\n",
              "1           ut  ...  213.03\n",
              "2           ca  ...  329.00\n",
              "3           ga  ...  481.04\n",
              "4           wa  ...   17.74\n",
              "5           ca  ...  102.50\n",
              "\n",
              "[6 rows x 9 columns]"
            ]
          },
          "metadata": {
            "tags": []
          },
          "execution_count": 15
        }
      ]
    },
    {
      "cell_type": "code",
      "metadata": {
        "id": "Iq8TwS-nh1qL",
        "outputId": "4da7fc2d-e324-415c-8f16-aa1e30baa020",
        "colab": {
          "base_uri": "https://localhost:8080/",
          "height": 449
        }
      },
      "source": [
        "# this code is taken from \n",
        "# https://matplotlib.org/gallery/pie_and_polar_charts/pie_and_donut_labels.html#sphx-glr-gallery-pie-and-polar-charts-pie-and-donut-labels-py\n",
        "\n",
        "\n",
        "y_value_counts = data['project_is_approved'].value_counts()\n",
        "print(\"Number of projects thar are approved for funding \", y_value_counts[1], \", (\", (y_value_counts[1]/(y_value_counts[1]+y_value_counts[0]))*100,\"%)\")\n",
        "print(\"\\nNumber of projects thar are not approved for funding \", y_value_counts[0], \", (\", (y_value_counts[0]/(y_value_counts[1]+y_value_counts[0]))*100,\"%)\")\n",
        "\n",
        "fig, ax = plt.subplots(figsize=(6, 6), subplot_kw=dict(aspect=\"equal\"))\n",
        "recipe = [\"Accepted\", \"Not Accepted\"]\n",
        "\n",
        "data = [y_value_counts[1], y_value_counts[0]]\n",
        "\n",
        "wedges, texts = ax.pie(data, wedgeprops=dict(width=0.5), startangle=-40)\n",
        "\n",
        "bbox_props = dict(boxstyle=\"square,pad=0.3\", fc=\"w\", ec=\"k\", lw=0.72)\n",
        "kw = dict(xycoords='data', textcoords='data', arrowprops=dict(arrowstyle=\"-\"),\n",
        "          bbox=bbox_props, zorder=0, va=\"center\")\n",
        "\n",
        "for i, p in enumerate(wedges):\n",
        "    ang = (p.theta2 - p.theta1)/2. + p.theta1\n",
        "    y = np.sin(np.deg2rad(ang))\n",
        "    x = np.cos(np.deg2rad(ang))\n",
        "    horizontalalignment = {-1: \"right\", 1: \"left\"}[int(np.sign(x))]\n",
        "    connectionstyle = \"angle,angleA=0,angleB={}\".format(ang)\n",
        "    kw[\"arrowprops\"].update({\"connectionstyle\": connectionstyle})\n",
        "    ax.annotate(recipe[i], xy=(x, y), xytext=(1.35*np.sign(x), 1.4*y),\n",
        "                 horizontalalignment=horizontalalignment, **kw)\n",
        "\n",
        "ax.set_title(\"\\n Number of projects that are Accepted and not accepted\")\n",
        "\n",
        "plt.show()"
      ],
      "execution_count": null,
      "outputs": [
        {
          "output_type": "stream",
          "text": [
            "Number of projects thar are approved for funding  92706 , ( 84.85830404217927 %)\n",
            "\n",
            "Number of projects thar are not approved for funding  16542 , ( 15.141695957820739 %)\n"
          ],
          "name": "stdout"
        },
        {
          "output_type": "display_data",
          "data": {
            "image/png": "[encoded data removed]",
            "text/plain": [
              "<Figure size 432x432 with 1 Axes>"
            ]
          },
          "metadata": {
            "tags": []
          }
        }
      ]
    },
    {
      "cell_type": "code",
      "metadata": {
        "id": "X-SXxXr814NQ"
      },
      "source": [
        "from pylab import rcParams\n",
        "rcParams['figure.figsize'] = 16, 8"
      ],
      "execution_count": null,
      "outputs": []
    },
    {
      "cell_type": "code",
      "metadata": {
        "id": "e_CuKdg9kEVS",
        "outputId": "33c4ce89-8230-43f5-ffca-72918212fee8",
        "colab": {
          "base_uri": "https://localhost:8080/",
          "height": 506
        }
      },
      "source": [
        "data['school_state'].value_counts().head(30).plot.bar()"
      ],
      "execution_count": null,
      "outputs": [
        {
          "output_type": "execute_result",
          "data": {
            "text/plain": [
              "<matplotlib.axes._subplots.AxesSubplot at 0x7f29b3b47da0>"
            ]
          },
          "metadata": {
            "tags": []
          },
          "execution_count": 20
        },
        {
          "output_type": "display_data",
          "data": {
            "image/png": "[encoded data removed]",
            "text/plain": [
              "<Figure size 1152x576 with 1 Axes>"
            ]
          },
          "metadata": {
            "tags": [],
            "needs_background": "light"
          }
        }
      ]
    },
    {
      "cell_type": "code",
      "metadata": {
        "id": "29okAbkJt8Tv",
        "outputId": "96a91251-3288-4a96-b235-ad772c7d5dc6",
        "colab": {
          "base_uri": "https://localhost:8080/",
          "height": 660
        }
      },
      "source": [
        "data['clean_categories'].value_counts().head(30).plot.bar()"
      ],
      "execution_count": null,
      "outputs": [
        {
          "output_type": "execute_result",
          "data": {
            "text/plain": [
              "<matplotlib.axes._subplots.AxesSubplot at 0x7f29b39eb400>"
            ]
          },
          "metadata": {
            "tags": []
          },
          "execution_count": 21
        },
        {
          "output_type": "display_data",
          "data": {
            "image/png": "[encoded data removed]",
            "text/plain": [
              "<Figure size 1152x576 with 1 Axes>"
            ]
          },
          "metadata": {
            "tags": [],
            "needs_background": "light"
          }
        }
      ]
    },
    {
      "cell_type": "code",
      "metadata": {
        "id": "P-YL5j9Tw4gB"
      },
      "source": [
        ""
      ],
      "execution_count": null,
      "outputs": []
    },
    {
      "cell_type": "code",
      "metadata": {
        "id": "SZyEF3wVw4jA",
        "outputId": "e7f61ab3-c226-4e29-e280-50c455529cde",
        "colab": {
          "base_uri": "https://localhost:8080/",
          "height": 68
        }
      },
      "source": [
        "y_value_counts = data['project_is_approved'].value_counts()\n",
        "print(y_value_counts)"
      ],
      "execution_count": null,
      "outputs": [
        {
          "output_type": "stream",
          "text": [
            "1    92706\n",
            "0    16542\n",
            "Name: project_is_approved, dtype: int64\n"
          ],
          "name": "stdout"
        }
      ]
    },
    {
      "cell_type": "code",
      "metadata": {
        "id": "98xCNu05w4rJ"
      },
      "source": [
        "# https://stackoverflow.com/a/47091490/4084039\n",
        "import re\n",
        "\n",
        "def decontracted(phrase):\n",
        "    # specific\n",
        "    phrase = re.sub(r\"won't\", \"will not\", phrase)\n",
        "    phrase = re.sub(r\"can\\'t\", \"can not\", phrase)\n",
        "\n",
        "    # general\n",
        "    phrase = re.sub(r\"n\\'t\", \" not\", phrase)\n",
        "    phrase = re.sub(r\"\\'re\", \" are\", phrase)\n",
        "    phrase = re.sub(r\"\\'s\", \" is\", phrase)\n",
        "    phrase = re.sub(r\"\\'d\", \" would\", phrase)\n",
        "    phrase = re.sub(r\"\\'ll\", \" will\", phrase)\n",
        "    phrase = re.sub(r\"\\'t\", \" not\", phrase)\n",
        "    phrase = re.sub(r\"\\'ve\", \" have\", phrase)\n",
        "    phrase = re.sub(r\"\\'m\", \" am\", phrase)\n",
        "    return phrase"
      ],
      "execution_count": null,
      "outputs": []
    },
    {
      "cell_type": "code",
      "metadata": {
        "id": "GRMXC_vaw4zQ"
      },
      "source": [
        "# https://gist.github.com/sebleier/554280\n",
        "# we are removing the words from the stop words list: 'no', 'nor', 'not'\n",
        "stopwords= ['i', 'me', 'my', 'myself', 'we', 'our', 'ours', 'ourselves', 'you', \"you're\", \"you've\",\\\n",
        "            \"you'll\", \"you'd\", 'your', 'yours', 'yourself', 'yourselves', 'he', 'him', 'his', 'himself', \\\n",
        "            'she', \"she's\", 'her', 'hers', 'herself', 'it', \"it's\", 'its', 'itself', 'they', 'them', 'their',\\\n",
        "            'theirs', 'themselves', 'what', 'which', 'who', 'whom', 'this', 'that', \"that'll\", 'these', 'those', \\\n",
        "            'am', 'is', 'are', 'was', 'were', 'be', 'been', 'being', 'have', 'has', 'had', 'having', 'do', 'does', \\\n",
        "            'did', 'doing', 'a', 'an', 'the', 'and', 'but', 'if', 'or', 'because', 'as', 'until', 'while', 'of', \\\n",
        "            'at', 'by', 'for', 'with', 'about', 'against', 'between', 'into', 'through', 'during', 'before', 'after',\\\n",
        "            'above', 'below', 'to', 'from', 'up', 'down', 'in', 'out', 'on', 'off', 'over', 'under', 'again', 'further',\\\n",
        "            'then', 'once', 'here', 'there', 'when', 'where', 'why', 'how', 'all', 'any', 'both', 'each', 'few', 'more',\\\n",
        "            'most', 'other', 'some', 'such', 'only', 'own', 'same', 'so', 'than', 'too', 'very', \\\n",
        "            's', 't', 'can', 'will', 'just', 'don', \"don't\", 'should', \"should've\", 'now', 'd', 'll', 'm', 'o', 're', \\\n",
        "            've', 'y', 'ain', 'aren', \"aren't\", 'couldn', \"couldn't\", 'didn', \"didn't\", 'doesn', \"doesn't\", 'hadn',\\\n",
        "            \"hadn't\", 'hasn', \"hasn't\", 'haven', \"haven't\", 'isn', \"isn't\", 'ma', 'mightn', \"mightn't\", 'mustn',\\\n",
        "            \"mustn't\", 'needn', \"needn't\", 'shan', \"shan't\", 'shouldn', \"shouldn't\", 'wasn', \"wasn't\", 'weren', \"weren't\", \\\n",
        "            'won', \"won't\", 'wouldn', \"wouldn't\"]"
      ],
      "execution_count": null,
      "outputs": []
    },
    {
      "cell_type": "code",
      "metadata": {
        "id": "Aehizeu0w45_"
      },
      "source": [
        "\n",
        "# Combining all the above stundents \n",
        "def Text_cleaner(data):\n",
        "    from tqdm import tqdm\n",
        "    preprocessed_essays = []\n",
        "    # tqdm is for printing the status bar\n",
        "    for sentance in tqdm(data.values):\n",
        "        sent = decontracted(sentance)\n",
        "        sent = sent.replace('\\\\r', ' ')\n",
        "        sent = sent.replace('\\\\\"', ' ')\n",
        "        sent = sent.replace('\\\\n', ' ')\n",
        "        sent = sent.replace('nan',' ')\n",
        "        sent = re.sub('[^A-Za-z0-9]+', ' ', sent)\n",
        "        # https://gist.github.com/sebleier/554280\n",
        "        sent = ' '.join(e for e in sent.split() if e.lower() not in stopwords)\n",
        "        preprocessed_essays.append(sent.lower().strip())\n",
        "    return preprocessed_essays"
      ],
      "execution_count": null,
      "outputs": []
    },
    {
      "cell_type": "code",
      "metadata": {
        "id": "tdhkKE01w498",
        "outputId": "629ff387-89bc-4c0a-a927-77d405a3abb1",
        "colab": {
          "base_uri": "https://localhost:8080/",
          "height": 34
        }
      },
      "source": [
        "# after preprocesing\n",
        "preprocessed_essays=Text_cleaner(data['essay'])"
      ],
      "execution_count": null,
      "outputs": [
        {
          "output_type": "stream",
          "text": [
            "100%|██████████| 109248/109248 [00:45<00:00, 2394.10it/s]\n"
          ],
          "name": "stderr"
        }
      ]
    },
    {
      "cell_type": "code",
      "metadata": {
        "id": "xPzP8COow43z"
      },
      "source": [
        "data['essay'] = preprocessed_essays\n"
      ],
      "execution_count": null,
      "outputs": []
    },
    {
      "cell_type": "code",
      "metadata": {
        "id": "B3Vcw44Hw42a"
      },
      "source": [
        "# similarly you can preprocess the titles also\n",
        "preprocessed_project_title=Text_cleaner(data['project_title'])"
      ],
      "execution_count": null,
      "outputs": []
    },
    {
      "cell_type": "code",
      "metadata": {
        "id": "WHXTnaSnw4xN"
      },
      "source": [
        ""
      ],
      "execution_count": null,
      "outputs": []
    },
    {
      "cell_type": "code",
      "metadata": {
        "id": "knTiX619w4vd",
        "outputId": "af945eeb-5d78-4bab-cfb3-08e48cba098b",
        "colab": {
          "base_uri": "https://localhost:8080/",
          "height": 221
        }
      },
      "source": [
        "z=data['price']\n",
        "z"
      ],
      "execution_count": null,
      "outputs": [
        {
          "output_type": "execute_result",
          "data": {
            "text/plain": [
              "0         725.05\n",
              "1         213.03\n",
              "2         329.00\n",
              "3         481.04\n",
              "4          17.74\n",
              "           ...  \n",
              "109243    143.36\n",
              "109244    268.57\n",
              "109245    399.00\n",
              "109246    287.73\n",
              "109247      5.50\n",
              "Name: price, Length: 109248, dtype: float64"
            ]
          },
          "metadata": {
            "tags": []
          },
          "execution_count": 126
        }
      ]
    },
    {
      "cell_type": "code",
      "metadata": {
        "id": "ILuIPaxsw4lx",
        "outputId": "d51428a1-478c-4bd8-fcb7-0312bc7bbf27",
        "colab": {
          "base_uri": "https://localhost:8080/",
          "height": 34
        }
      },
      "source": [
        "\n",
        "#https://stackoverflow.com/questions/29763620/how-to-select-all-columns-except-one-column-in-pandas\n",
        "X=data.loc[:, data.columns != 'project_is_approved']\n",
        "y=data['project_is_approved']\n",
        "X.shape"
      ],
      "execution_count": null,
      "outputs": [
        {
          "output_type": "execute_result",
          "data": {
            "text/plain": [
              "(109248, 9)"
            ]
          },
          "metadata": {
            "tags": []
          },
          "execution_count": 128
        }
      ]
    },
    {
      "cell_type": "markdown",
      "metadata": {
        "id": "nKQd4zh3zcJp"
      },
      "source": [
        "### **Splitting data into Test,Train,CV**"
      ]
    },
    {
      "cell_type": "code",
      "metadata": {
        "id": "oX5bbLfqzPEy",
        "outputId": "a8afecdb-2751-4941-c65e-218ef73025e1",
        "colab": {
          "base_uri": "https://localhost:8080/",
          "height": 85
        }
      },
      "source": [
        "#Splitting data into Test,Train,CV\n",
        "# https://scikit-learn.org/stable/modules/generated/sklearn.model_selection.train_test_split.html\n",
        "\n",
        "from sklearn.model_selection import train_test_split\n",
        "\n",
        "X_train,X_test,y_train, y_test=train_test_split(X, y, test_size=0.33,stratify = y)\n",
        "# X_train,X_cv,y_train,y_cv=train_test_split(X_train, y_train, test_size=0.3, random_state=0)\n",
        "\n",
        "\n",
        "print(X_train.shape)\n",
        "print(X_test.shape)\n",
        "\n",
        "print(y_train.shape)\n",
        "print(y_test.shape)"
      ],
      "execution_count": null,
      "outputs": [
        {
          "output_type": "stream",
          "text": [
            "(73196, 9)\n",
            "(36052, 9)\n",
            "(73196,)\n",
            "(36052,)\n"
          ],
          "name": "stdout"
        }
      ]
    },
    {
      "cell_type": "code",
      "metadata": {
        "id": "vDNEJkszzPIK",
        "outputId": "98c82ef7-838e-4dd9-e014-abb100f7c6fb",
        "colab": {
          "base_uri": "https://localhost:8080/",
          "height": 71
        }
      },
      "source": [
        "# we use count vectorizer to convert the values into one \n",
        "from sklearn.feature_extraction.text import CountVectorizer\n",
        "vectorizer = CountVectorizer(lowercase=False, binary=True)\n",
        "vectorizer.fit(X_train['clean_categories'].values)\n",
        "feature_names_bow=[]\n",
        "feature_names_tfidf=[]\n",
        "# we use the fitted CountVectorizer to convert the text to vector\n",
        "X_train_clean_categories=vectorizer.transform(X_train['clean_categories'].values)\n",
        "X_test_clean_categories=vectorizer.transform(X_test['clean_categories'].values)\n",
        "\n",
        "\n",
        "print(vectorizer.get_feature_names())\n",
        "print(\"Shape of matrix after one hot encodig \",X_train_clean_categories.shape)\n",
        "feature_names_bow.extend(vectorizer.get_feature_names())\n",
        "feature_names_tfidf.extend(vectorizer.get_feature_names())"
      ],
      "execution_count": null,
      "outputs": [
        {
          "output_type": "stream",
          "text": [
            "['appliedlearning', 'appliedlearninghealth_sports', 'appliedlearninghistory_civics', 'appliedlearningliteracy_language', 'appliedlearningmath_science', 'appliedlearningmusic_arts', 'appliedlearningspecialneeds', 'appliedlearningwarmthcare_hunger', 'health_sports', 'health_sportsappliedlearning', 'health_sportshistory_civics', 'health_sportsliteracy_language', 'health_sportsmath_science', 'health_sportsmusic_arts', 'health_sportsspecialneeds', 'health_sportswarmthcare_hunger', 'history_civics', 'history_civicsappliedlearning', 'history_civicshealth_sports', 'history_civicsliteracy_language', 'history_civicsmath_science', 'history_civicsmusic_arts', 'history_civicsspecialneeds', 'history_civicswarmthcare_hunger', 'literacy_language', 'literacy_languageappliedlearning', 'literacy_languagehealth_sports', 'literacy_languagehistory_civics', 'literacy_languagemath_science', 'literacy_languagemusic_arts', 'literacy_languagespecialneeds', 'literacy_languagewarmthcare_hunger', 'math_science', 'math_scienceappliedlearning', 'math_sciencehealth_sports', 'math_sciencehistory_civics', 'math_scienceliteracy_language', 'math_sciencemusic_arts', 'math_sciencespecialneeds', 'math_sciencewarmthcare_hunger', 'music_arts', 'music_artsappliedlearning', 'music_artshealth_sports', 'music_artshistory_civics', 'music_artsspecialneeds', 'music_artswarmthcare_hunger', 'specialneeds', 'specialneedshealth_sports', 'specialneedsmusic_arts', 'specialneedswarmthcare_hunger', 'warmthcare_hunger']\n",
            "Shape of matrix after one hot encodig  (73196, 51)\n"
          ],
          "name": "stdout"
        }
      ]
    },
    {
      "cell_type": "code",
      "metadata": {
        "id": "l1qKfEKnzPP2",
        "outputId": "25d35fe7-818f-414e-fe7d-413aeb41d06c",
        "colab": {
          "base_uri": "https://localhost:8080/",
          "height": 71
        }
      },
      "source": [
        "vectorizer = CountVectorizer(lowercase=False, binary=True)\n",
        "vectorizer.fit(X_train['clean_subcategories'].values)\n",
        "\n",
        "# we use the fitted CountVectorizer to convert the text to vector\n",
        "X_train_clean_sub_categories=vectorizer.transform(X_train['clean_subcategories'].values)\n",
        "X_test_clean_sub_categories=vectorizer.transform(X_test['clean_subcategories'].values)\n",
        "\n",
        "\n",
        "print(vectorizer.get_feature_names())\n",
        "print(\"Shape of matrix after one hot encodig \",X_train_clean_sub_categories.shape)\n",
        "feature_names_bow.extend(vectorizer.get_feature_names())\n",
        "feature_names_tfidf.extend(vectorizer.get_feature_names())"
      ],
      "execution_count": null,
      "outputs": [
        {
          "output_type": "stream",
          "text": [
            "['appliedsciences', 'appliedsciencescharactereducation', 'appliedsciencescivics_government', 'appliedsciencescollege_careerprep', 'appliedsciencescommunityservice', 'appliedsciencesearlydevelopment', 'appliedscienceseconomics', 'appliedsciencesenvironmentalscience', 'appliedsciencesesl', 'appliedsciencesextracurricular', 'appliedsciencesfinancialliteracy', 'appliedsciencesforeignlanguages', 'appliedsciencesgym_fitness', 'appliedscienceshealth_lifescience', 'appliedscienceshealth_wellness', 'appliedscienceshistory_geography', 'appliedsciencesliteracy', 'appliedsciencesliterature_writing', 'appliedsciencesmathematics', 'appliedsciencesmusic', 'appliedsciencesnutritioneducation', 'appliedsciencesother', 'appliedsciencesparentinvolvement', 'appliedsciencesperformingarts', 'appliedsciencessocialsciences', 'appliedsciencesspecialneeds', 'appliedsciencesteamsports', 'appliedsciencesvisualarts', 'appliedscienceswarmthcare_hunger', 'charactereducation', 'charactereducationcivics_government', 'charactereducationcollege_careerprep', 'charactereducationcommunityservice', 'charactereducationearlydevelopment', 'charactereducationeconomics', 'charactereducationenvironmentalscience', 'charactereducationesl', 'charactereducationextracurricular', 'charactereducationfinancialliteracy', 'charactereducationforeignlanguages', 'charactereducationgym_fitness', 'charactereducationhealth_lifescience', 'charactereducationhealth_wellness', 'charactereducationhistory_geography', 'charactereducationliteracy', 'charactereducationliterature_writing', 'charactereducationmathematics', 'charactereducationmusic', 'charactereducationnutritioneducation', 'charactereducationother', 'charactereducationparentinvolvement', 'charactereducationperformingarts', 'charactereducationsocialsciences', 'charactereducationspecialneeds', 'charactereducationteamsports', 'charactereducationvisualarts', 'charactereducationwarmthcare_hunger', 'civics_government', 'civics_governmentcollege_careerprep', 'civics_governmentcommunityservice', 'civics_governmenteconomics', 'civics_governmentenvironmentalscience', 'civics_governmentesl', 'civics_governmentextracurricular', 'civics_governmentfinancialliteracy', 'civics_governmentforeignlanguages', 'civics_governmenthealth_lifescience', 'civics_governmenthealth_wellness', 'civics_governmenthistory_geography', 'civics_governmentliteracy', 'civics_governmentliterature_writing', 'civics_governmentmathematics', 'civics_governmentperformingarts', 'civics_governmentsocialsciences', 'civics_governmentspecialneeds', 'civics_governmentteamsports', 'civics_governmentvisualarts', 'college_careerprep', 'college_careerprepcommunityservice', 'college_careerprepearlydevelopment', 'college_careerprepeconomics', 'college_careerprepenvironmentalscience', 'college_careerprepesl', 'college_careerprepextracurricular', 'college_careerprepfinancialliteracy', 'college_careerprepforeignlanguages', 'college_careerprepgym_fitness', 'college_careerprephealth_lifescience', 'college_careerprephealth_wellness', 'college_careerprephistory_geography', 'college_careerprepliteracy', 'college_careerprepliterature_writing', 'college_careerprepmathematics', 'college_careerprepmusic', 'college_careerprepnutritioneducation', 'college_careerprepother', 'college_careerprepparentinvolvement', 'college_careerprepperformingarts', 'college_careerprepsocialsciences', 'college_careerprepspecialneeds', 'college_careerprepvisualarts', 'communityservice', 'communityserviceearlydevelopment', 'communityserviceeconomics', 'communityserviceenvironmentalscience', 'communityserviceesl', 'communityserviceextracurricular', 'communityservicegym_fitness', 'communityservicehealth_lifescience', 'communityservicehealth_wellness', 'communityservicehistory_geography', 'communityserviceliteracy', 'communityserviceliterature_writing', 'communityservicemathematics', 'communityservicenutritioneducation', 'communityserviceother', 'communityserviceparentinvolvement', 'communityserviceperformingarts', 'communityservicesocialsciences', 'communityservicespecialneeds', 'communityservicevisualarts', 'earlydevelopment', 'earlydevelopmenteconomics', 'earlydevelopmentenvironmentalscience', 'earlydevelopmentextracurricular', 'earlydevelopmentfinancialliteracy', 'earlydevelopmentforeignlanguages', 'earlydevelopmentgym_fitness', 'earlydevelopmenthealth_lifescience', 'earlydevelopmenthealth_wellness', 'earlydevelopmentliteracy', 'earlydevelopmentliterature_writing', 'earlydevelopmentmathematics', 'earlydevelopmentmusic', 'earlydevelopmentnutritioneducation', 'earlydevelopmentother', 'earlydevelopmentparentinvolvement', 'earlydevelopmentperformingarts', 'earlydevelopmentsocialsciences', 'earlydevelopmentspecialneeds', 'earlydevelopmentteamsports', 'earlydevelopmentvisualarts', 'earlydevelopmentwarmthcare_hunger', 'economics', 'economicsenvironmentalscience', 'economicsfinancialliteracy', 'economicsforeignlanguages', 'economicshealth_lifescience', 'economicshistory_geography', 'economicsliteracy', 'economicsliterature_writing', 'economicsmathematics', 'economicsmusic', 'economicsother', 'economicssocialsciences', 'economicsspecialneeds', 'economicsvisualarts', 'environmentalscience', 'environmentalscienceextracurricular', 'environmentalsciencefinancialliteracy', 'environmentalscienceforeignlanguages', 'environmentalsciencegym_fitness', 'environmentalsciencehealth_lifescience', 'environmentalsciencehealth_wellness', 'environmentalsciencehistory_geography', 'environmentalscienceliteracy', 'environmentalscienceliterature_writing', 'environmentalsciencemathematics', 'environmentalsciencemusic', 'environmentalsciencenutritioneducation', 'environmentalscienceother', 'environmentalscienceparentinvolvement', 'environmentalscienceperformingarts', 'environmentalsciencesocialsciences', 'environmentalsciencespecialneeds', 'environmentalscienceteamsports', 'environmentalsciencevisualarts', 'environmentalsciencewarmthcare_hunger', 'esl', 'eslearlydevelopment', 'eslenvironmentalscience', 'eslextracurricular', 'eslfinancialliteracy', 'eslforeignlanguages', 'eslgym_fitness', 'eslhealth_lifescience', 'eslhealth_wellness', 'eslhistory_geography', 'eslliteracy', 'eslliterature_writing', 'eslmathematics', 'eslmusic', 'eslother', 'eslparentinvolvement', 'eslperformingarts', 'eslsocialsciences', 'eslspecialneeds', 'eslvisualarts', 'extracurricular', 'extracurricularfinancialliteracy', 'extracurriculargym_fitness', 'extracurricularhealth_lifescience', 'extracurricularhealth_wellness', 'extracurricularhistory_geography', 'extracurricularliteracy', 'extracurricularliterature_writing', 'extracurricularmathematics', 'extracurricularmusic', 'extracurricularnutritioneducation', 'extracurricularother', 'extracurricularparentinvolvement', 'extracurricularperformingarts', 'extracurricularsocialsciences', 'extracurricularspecialneeds', 'extracurricularteamsports', 'extracurricularvisualarts', 'financialliteracy', 'financialliteracyforeignlanguages', 'financialliteracyhealth_lifescience', 'financialliteracyhealth_wellness', 'financialliteracyhistory_geography', 'financialliteracyliteracy', 'financialliteracyliterature_writing', 'financialliteracymathematics', 'financialliteracyother', 'financialliteracyparentinvolvement', 'financialliteracyperformingarts', 'financialliteracysocialsciences', 'financialliteracyspecialneeds', 'financialliteracyvisualarts', 'foreignlanguages', 'foreignlanguagesgym_fitness', 'foreignlanguageshealth_lifescience', 'foreignlanguageshealth_wellness', 'foreignlanguageshistory_geography', 'foreignlanguagesliteracy', 'foreignlanguagesliterature_writing', 'foreignlanguagesmathematics', 'foreignlanguagesmusic', 'foreignlanguagesother', 'foreignlanguagesperformingarts', 'foreignlanguagessocialsciences', 'foreignlanguagesspecialneeds', 'foreignlanguagesvisualarts', 'gym_fitness', 'gym_fitnesshealth_lifescience', 'gym_fitnesshealth_wellness', 'gym_fitnesshistory_geography', 'gym_fitnessliteracy', 'gym_fitnessliterature_writing', 'gym_fitnessmathematics', 'gym_fitnessmusic', 'gym_fitnessnutritioneducation', 'gym_fitnessother', 'gym_fitnessparentinvolvement', 'gym_fitnessperformingarts', 'gym_fitnessspecialneeds', 'gym_fitnessteamsports', 'gym_fitnessvisualarts', 'gym_fitnesswarmthcare_hunger', 'health_lifescience', 'health_lifesciencehealth_wellness', 'health_lifesciencehistory_geography', 'health_lifescienceliteracy', 'health_lifescienceliterature_writing', 'health_lifesciencemathematics', 'health_lifesciencemusic', 'health_lifesciencenutritioneducation', 'health_lifescienceother', 'health_lifescienceparentinvolvement', 'health_lifescienceperformingarts', 'health_lifesciencesocialsciences', 'health_lifesciencespecialneeds', 'health_lifescienceteamsports', 'health_lifesciencevisualarts', 'health_lifesciencewarmthcare_hunger', 'health_wellness', 'health_wellnesshistory_geography', 'health_wellnessliteracy', 'health_wellnessliterature_writing', 'health_wellnessmathematics', 'health_wellnessmusic', 'health_wellnessnutritioneducation', 'health_wellnessother', 'health_wellnessparentinvolvement', 'health_wellnessperformingarts', 'health_wellnesssocialsciences', 'health_wellnessspecialneeds', 'health_wellnessteamsports', 'health_wellnessvisualarts', 'health_wellnesswarmthcare_hunger', 'history_geography', 'history_geographyliteracy', 'history_geographyliterature_writing', 'history_geographymathematics', 'history_geographymusic', 'history_geographyother', 'history_geographyparentinvolvement', 'history_geographyperformingarts', 'history_geographysocialsciences', 'history_geographyspecialneeds', 'history_geographyteamsports', 'history_geographyvisualarts', 'history_geographywarmthcare_hunger', 'literacy', 'literacyliterature_writing', 'literacymathematics', 'literacymusic', 'literacynutritioneducation', 'literacyother', 'literacyparentinvolvement', 'literacyperformingarts', 'literacysocialsciences', 'literacyspecialneeds', 'literacyteamsports', 'literacyvisualarts', 'literacywarmthcare_hunger', 'literature_writing', 'literature_writingmathematics', 'literature_writingmusic', 'literature_writingnutritioneducation', 'literature_writingother', 'literature_writingparentinvolvement', 'literature_writingperformingarts', 'literature_writingsocialsciences', 'literature_writingspecialneeds', 'literature_writingteamsports', 'literature_writingvisualarts', 'literature_writingwarmthcare_hunger', 'mathematics', 'mathematicsmusic', 'mathematicsnutritioneducation', 'mathematicsother', 'mathematicsparentinvolvement', 'mathematicsperformingarts', 'mathematicssocialsciences', 'mathematicsspecialneeds', 'mathematicsteamsports', 'mathematicsvisualarts', 'mathematicswarmthcare_hunger', 'music', 'musicother', 'musicparentinvolvement', 'musicperformingarts', 'musicsocialsciences', 'musicspecialneeds', 'musicteamsports', 'musicvisualarts', 'nutritioneducation', 'nutritioneducationother', 'nutritioneducationsocialsciences', 'nutritioneducationspecialneeds', 'nutritioneducationteamsports', 'nutritioneducationvisualarts', 'nutritioneducationwarmthcare_hunger', 'other', 'otherparentinvolvement', 'otherperformingarts', 'othersocialsciences', 'otherspecialneeds', 'otherteamsports', 'othervisualarts', 'otherwarmthcare_hunger', 'parentinvolvement', 'parentinvolvementperformingarts', 'parentinvolvementsocialsciences', 'parentinvolvementspecialneeds', 'parentinvolvementteamsports', 'parentinvolvementvisualarts', 'performingarts', 'performingartssocialsciences', 'performingartsspecialneeds', 'performingartsteamsports', 'performingartsvisualarts', 'socialsciences', 'socialsciencesspecialneeds', 'socialsciencesvisualarts', 'specialneeds', 'specialneedsteamsports', 'specialneedsvisualarts', 'specialneedswarmthcare_hunger', 'teamsports', 'teamsportsvisualarts', 'visualarts', 'visualartswarmthcare_hunger', 'warmthcare_hunger']\n",
            "Shape of matrix after one hot encodig  (73196, 386)\n"
          ],
          "name": "stdout"
        }
      ]
    },
    {
      "cell_type": "code",
      "metadata": {
        "id": "5cVGzv5AzPZ2",
        "outputId": "7e66b529-39d3-4c10-d691-4ce47811a29c",
        "colab": {
          "base_uri": "https://localhost:8080/",
          "height": 71
        }
      },
      "source": [
        "vectorizer = CountVectorizer(lowercase=False, binary=True)\n",
        "vectorizer.fit(X_train['school_state'].values)\n",
        "\n",
        "# we use the fitted CountVectorizer to convert the text to vector\n",
        "X_train_skl_state=vectorizer.transform(X_train['school_state'].values)\n",
        "X_test_skl_state=vectorizer.transform(X_test['school_state'].values)\n",
        "\n",
        "\n",
        "print(vectorizer.get_feature_names())\n",
        "print(\"Shape of matrix after one hot encodig \",X_train_skl_state.shape)\n",
        "feature_names_bow.extend(vectorizer.get_feature_names())\n",
        "feature_names_tfidf.extend(vectorizer.get_feature_names())"
      ],
      "execution_count": null,
      "outputs": [
        {
          "output_type": "stream",
          "text": [
            "['ak', 'al', 'ar', 'az', 'ca', 'co', 'ct', 'dc', 'de', 'fl', 'ga', 'hi', 'ia', 'id', 'il', 'in', 'ks', 'ky', 'la', 'ma', 'md', 'me', 'mi', 'mn', 'mo', 'ms', 'mt', 'nc', 'nd', 'ne', 'nh', 'nj', 'nm', 'nv', 'ny', 'oh', 'ok', 'or', 'pa', 'ri', 'sc', 'sd', 'tn', 'tx', 'ut', 'va', 'vt', 'wa', 'wi', 'wv', 'wy']\n",
            "Shape of matrix after one hot encodig  (73196, 51)\n"
          ],
          "name": "stdout"
        }
      ]
    },
    {
      "cell_type": "code",
      "metadata": {
        "id": "-m4E0DkazPW-",
        "outputId": "42299c83-8334-4116-d30f-f2160d183128",
        "colab": {
          "base_uri": "https://localhost:8080/",
          "height": 51
        }
      },
      "source": [
        "vectorizer = CountVectorizer(lowercase=False, binary=True)\n",
        "vectorizer.fit(X_train['teacher_prefix'].values.astype(\"U\"))\n",
        "\n",
        "# we use the fitted CountVectorizer to convert the text to vector\n",
        "X_train_teacher_prefix=vectorizer.transform(X_train['teacher_prefix'].values.astype(\"U\"))\n",
        "X_test_teacher_prefix=vectorizer.transform(X_test['teacher_prefix'].values.astype(\"U\"))\n",
        "\n",
        "\n",
        "print(vectorizer.get_feature_names())\n",
        "print(\"Shape of matrix after one hot encodig \",X_train_teacher_prefix.shape)\n",
        "feature_names_bow.extend(vectorizer.get_feature_names())\n",
        "feature_names_tfidf.extend(vectorizer.get_feature_names())"
      ],
      "execution_count": null,
      "outputs": [
        {
          "output_type": "stream",
          "text": [
            "['dr', 'mr', 'mrs', 'ms', 'teacher']\n",
            "Shape of matrix after one hot encodig  (73196, 5)\n"
          ],
          "name": "stdout"
        }
      ]
    },
    {
      "cell_type": "code",
      "metadata": {
        "id": "h9ebjIaqzPUT",
        "outputId": "836ddc93-7683-478f-cce6-313ac2da14d8",
        "colab": {
          "base_uri": "https://localhost:8080/",
          "height": 51
        }
      },
      "source": [
        "vectorizer = CountVectorizer(lowercase=False, binary=True)\n",
        "vectorizer.fit(X_train['project_grade_category'].values)\n",
        "\n",
        "# we use the fitted CountVectorizer to convert the text to vector\n",
        "X_train_grade_level=vectorizer.transform(X_train['project_grade_category'].values)\n",
        "X_test_grade_level=vectorizer.transform(X_test['project_grade_category'].values)\n",
        "\n",
        "\n",
        "print(vectorizer.get_feature_names())\n",
        "print(\"Shape of matrix after one hot encodig \",X_train_grade_level.shape)\n",
        "feature_names_bow.extend(vectorizer.get_feature_names())\n",
        "feature_names_tfidf.extend(vectorizer.get_feature_names())"
      ],
      "execution_count": null,
      "outputs": [
        {
          "output_type": "stream",
          "text": [
            "['grades_3_5', 'grades_6_8', 'grades_9_12', 'grades_prek_2']\n",
            "Shape of matrix after one hot encodig  (73196, 4)\n"
          ],
          "name": "stdout"
        }
      ]
    },
    {
      "cell_type": "markdown",
      "metadata": {
        "id": "4K5drIyyzylF"
      },
      "source": [
        "### **Vectorizing Text data**\n",
        "Bag of word"
      ]
    },
    {
      "cell_type": "code",
      "metadata": {
        "id": "9EUjSbE9zPNa",
        "outputId": "f7338bb8-349a-4bd9-f2c4-69f0bd4acabc",
        "colab": {
          "base_uri": "https://localhost:8080/",
          "height": 51
        }
      },
      "source": [
        "# We are considering only the words which appeared in at least 10 documents(rows or projects).\n",
        "bow_essay_vectorizer = CountVectorizer(min_df=10)\n",
        "bow_essay_vectorizer.fit(X_train['essay'])\n",
        "\n",
        "# we use the fitted CountVectorizer to convert the text to vector\n",
        "X_train_essay_bow=bow_essay_vectorizer.transform(X_train['essay'].values)\n",
        "X_test_essay_bow=bow_essay_vectorizer.transform(X_test['essay'].values)\n",
        "\n",
        "\n",
        "print(\"Shape of matrix after one hot encodig \",X_train_essay_bow.shape)\n",
        "print(\"Shape of matrix after one hot encodig \",X_test_essay_bow.shape)\n",
        "\n",
        "feature_names_bow.extend(bow_essay_vectorizer.get_feature_names())"
      ],
      "execution_count": null,
      "outputs": [
        {
          "output_type": "stream",
          "text": [
            "Shape of matrix after one hot encodig  (73196, 14165)\n",
            "Shape of matrix after one hot encodig  (36052, 14165)\n"
          ],
          "name": "stdout"
        }
      ]
    },
    {
      "cell_type": "markdown",
      "metadata": {
        "id": "RfO_ddDQ0B0f"
      },
      "source": [
        "### **TFIDF vectorizer**"
      ]
    },
    {
      "cell_type": "code",
      "metadata": {
        "id": "F0dJj0bnzv9X",
        "outputId": "f07f5e9c-826a-44a3-d9ec-d53e43973578",
        "colab": {
          "base_uri": "https://localhost:8080/",
          "height": 34
        }
      },
      "source": [
        "from sklearn.feature_extraction.text import TfidfVectorizer\n",
        "vectorizer = TfidfVectorizer(min_df=10)\n",
        "vectorizer.fit(X_train['essay'])\n",
        "\n",
        "# we use the fitted CountVectorizer to convert the text to vector\n",
        "X_train_essay_tfidf=vectorizer.transform(X_train['essay'].values)\n",
        "X_test_essay_tfidf=vectorizer.transform(X_test['essay'].values)\n",
        "\n",
        "\n",
        "print(\"Shape of matrix after one hot encodig \",X_train_essay_tfidf.shape)\n",
        "feature_names_tfidf.extend(vectorizer.get_feature_names())\n"
      ],
      "execution_count": null,
      "outputs": [
        {
          "output_type": "stream",
          "text": [
            "Shape of matrix after one hot encodig  (73196, 14165)\n"
          ],
          "name": "stdout"
        }
      ]
    },
    {
      "cell_type": "code",
      "metadata": {
        "id": "qI_jtKxAzwRG",
        "outputId": "42745662-f031-4ec9-de46-60c23f41e604",
        "colab": {
          "base_uri": "https://localhost:8080/",
          "height": 85
        }
      },
      "source": [
        "from sklearn.preprocessing import Normalizer\n",
        "\n",
        "normalizer = Normalizer()\n",
        "\n",
        "# normalizer.fit(X_train['price'].values)\n",
        "# this will rise an error Expected 2D array, got 1D array instead: \n",
        "# array=[105.22 215.96  96.01 ... 368.98  80.53 709.67].\n",
        "# Reshape your data either using \n",
        "# array.reshape(-1, 1) if your data has a single feature \n",
        "# array.reshape(1, -1)  if it contains a single sample.\n",
        "\n",
        "normalizer.fit(X_train['price'].values.reshape(1,-1))\n",
        "\n",
        "X_train_price_standardized = normalizer.transform(X_train['price'].values.reshape(1,-1))\n",
        "# X_cv_price_standardized = normalizer.transform(X_cv['price'].values.reshape(1,-1))\n",
        "X_test_price_standardized = normalizer.transform(X_test['price'].values.reshape(1,-1))\n",
        "\n",
        "print(\"After vectorizations\")\n",
        "print(X_train_price_standardized.shape, y_train.shape)\n",
        "# print(X_cv_price_standardized.shape, y_cv.shape)\n",
        "print(X_test_price_standardized.shape, y_test.shape)\n",
        "print(\"+-------+\"*10)"
      ],
      "execution_count": null,
      "outputs": [
        {
          "output_type": "stream",
          "text": [
            "After vectorizations\n",
            "(1, 73196) (73196,)\n",
            "(1, 36052) (36052,)\n",
            "+-------++-------++-------++-------++-------++-------++-------++-------++-------++-------+\n"
          ],
          "name": "stdout"
        }
      ]
    },
    {
      "cell_type": "code",
      "metadata": {
        "id": "jmKBkhhdzwO6"
      },
      "source": [
        "X_train_price_standardized = X_train_price_standardized.reshape(-1,1)\n",
        "# X_cv_price_standardized = X_cv['price'].values.reshape(-1,1)\n",
        "X_test_price_standardized = X_test_price_standardized.reshape(-1,1)"
      ],
      "execution_count": null,
      "outputs": []
    },
    {
      "cell_type": "code",
      "metadata": {
        "id": "OG5rqlEczwJB",
        "outputId": "99e6569e-dd0f-4afc-ec09-e18eb7a51a8b",
        "colab": {
          "base_uri": "https://localhost:8080/",
          "height": 68
        }
      },
      "source": [
        "normalizer = Normalizer()\n",
        "\n",
        "# normalizer.fit(X_train['price'].values)\n",
        "# this will rise an error Expected 2D array, got 1D array instead: \n",
        "# array=[105.22 215.96  96.01 ... 368.98  80.53 709.67].\n",
        "# Reshape your data either using \n",
        "# array.reshape(-1, 1) if your data has a single feature \n",
        "# array.reshape(1, -1)  if it contains a single sample.\n",
        "\n",
        "normalizer.fit(X_train['teacher_number_of_previously_posted_projects'].values.reshape(1,-1))\n",
        "\n",
        "X_train_prev_proj = normalizer.transform(X_train['teacher_number_of_previously_posted_projects'].values.reshape(1,-1))\n",
        "# X_cv_prev_proj = normalizer.transform(X_cv['teacher_number_of_previously_posted_projects'].values.reshape(1,-1))\n",
        "X_test_proj = normalizer.transform(X_test['teacher_number_of_previously_posted_projects'].values.reshape(1,-1))\n",
        "\n",
        "print(\"After vectorizations\")\n",
        "print(X_train_prev_proj.shape, y_train.shape)\n",
        "# print(X_cv_prev_proj.shape, y_cv.shape)\n",
        "print(X_test_proj.shape, y_test.shape)"
      ],
      "execution_count": null,
      "outputs": [
        {
          "output_type": "stream",
          "text": [
            "After vectorizations\n",
            "(1, 73196) (73196,)\n",
            "(1, 36052) (36052,)\n"
          ],
          "name": "stdout"
        }
      ]
    },
    {
      "cell_type": "code",
      "metadata": {
        "id": "ibrjledbzwHi"
      },
      "source": [
        "X_train_prev_proj = X_train_prev_proj.reshape(-1,1)\n",
        "# X_cv_prev_proj = X_cv['teacher_number_of_previously_posted_projects'].values.reshape(-1,1)\n",
        "X_test_proj = X_test_proj.reshape(-1,1)"
      ],
      "execution_count": null,
      "outputs": []
    },
    {
      "cell_type": "markdown",
      "metadata": {
        "id": "7gSk_xT_4H1d"
      },
      "source": [
        "## Merging all the above features\n",
        "\n",
        "--we need to merge all the numerical vectors i.e catogorical, text, numerical vectors"
      ]
    },
    {
      "cell_type": "code",
      "metadata": {
        "id": "oVMePgEAzwFg",
        "outputId": "c256d073-fece-4257-fe42-aed10f81abd9",
        "colab": {
          "base_uri": "https://localhost:8080/",
          "height": 51
        }
      },
      "source": [
        "# merge two sparse matrices: https://stackoverflow.com/a/19710648/4084039\n",
        "from scipy.sparse import hstack\n",
        "\n",
        "# with the same hstack function we are concatinating a sparse matrix and a dense matirx :)\n",
        "X_train_bow = hstack((X_train_clean_categories, X_train_clean_sub_categories,X_train_skl_state,X_train_teacher_prefix,\n",
        "            X_train_grade_level,X_train_prev_proj,X_train_price_standardized,\n",
        "            X_train_essay_bow\n",
        "            )).tocsr()\n",
        "\n",
        "\n",
        "X_test_bow = hstack((X_test_clean_categories, X_test_clean_sub_categories,X_test_skl_state,X_test_teacher_prefix,\n",
        "            X_test_grade_level,X_test_proj,X_test_price_standardized,\n",
        "            X_test_essay_bow,\n",
        "            )).tocsr()\n",
        "\n",
        "\n",
        "\n",
        "\n",
        "\n",
        "print(X_train_bow.shape)\n",
        "print(X_test_bow.shape)\n"
      ],
      "execution_count": null,
      "outputs": [
        {
          "output_type": "stream",
          "text": [
            "(73196, 14664)\n",
            "(36052, 14664)\n"
          ],
          "name": "stdout"
        }
      ]
    },
    {
      "cell_type": "code",
      "metadata": {
        "id": "_zXwnTY9zwDE",
        "outputId": "ce1685be-670c-44cc-e237-cbaa0124c6ba",
        "colab": {
          "base_uri": "https://localhost:8080/",
          "height": 51
        }
      },
      "source": [
        "# with the same hstack function we are concatinating a sparse matrix and a dense matirx :)\n",
        "X_train_tfidf = hstack((X_train_clean_categories, X_train_clean_sub_categories,X_train_skl_state,X_train_teacher_prefix,\n",
        "            X_train_grade_level,X_train_prev_proj,X_train_price_standardized,\n",
        "            X_train_essay_tfidf\n",
        "            )).tocsr()\n",
        "\n",
        "\n",
        "X_test_tfidf = hstack((X_test_clean_categories, X_test_clean_sub_categories,X_test_skl_state,X_test_teacher_prefix,\n",
        "            X_test_grade_level,X_test_proj,X_test_price_standardized,\n",
        "            X_test_essay_tfidf\n",
        "            )).tocsr()\n",
        "\n",
        "\n",
        "print(X_train_tfidf.shape)\n",
        "print(X_test_tfidf.shape)"
      ],
      "execution_count": null,
      "outputs": [
        {
          "output_type": "stream",
          "text": [
            "(73196, 14664)\n",
            "(36052, 14664)\n"
          ],
          "name": "stdout"
        }
      ]
    },
    {
      "cell_type": "markdown",
      "metadata": {
        "id": "YLMhPtrW56Ny"
      },
      "source": [
        "## **Naive Bayes**\n",
        "\n",
        "Appling NB() on different kind of featurization as mentioned in the instructions"
      ]
    },
    {
      "cell_type": "markdown",
      "metadata": {
        "id": "K8orrUgG6hWp"
      },
      "source": [
        "Applying Naive Bayes on BOW"
      ]
    },
    {
      "cell_type": "code",
      "metadata": {
        "id": "ImIfEvb340uu"
      },
      "source": [
        "from sklearn.model_selection import GridSearchCV\n",
        "from sklearn.naive_bayes import MultinomialNB\n",
        "nb = MultinomialNB(class_prior=[0.5,0.5])\n",
        "\n",
        "parameters = {'alpha':[0.00001, 0.00005, 0.0001, 0.0005, 0.001, 0.005, 0.01, 0.05, 0.1, 0.5, 1, 5, 10, 50, 100, 500, 1000, 2500, 5000, 10000]}\n",
        "\n",
        "clf = GridSearchCV(nb, parameters, cv= 10, scoring='roc_auc',return_train_score=True)\n",
        "\n",
        "clf.fit(X_train_bow, y_train)\n",
        "\n",
        "train_auc= clf.cv_results_['mean_train_score']\n",
        "train_auc_std = clf.cv_results_['std_train_score']\n",
        "test_auc = clf.cv_results_['mean_test_score'] \n",
        "test_auc_std = clf.cv_results_['std_test_score']"
      ],
      "execution_count": null,
      "outputs": []
    },
    {
      "cell_type": "code",
      "metadata": {
        "id": "o9RBJugU401c",
        "outputId": "0b7b2c50-9a05-4bbf-922b-78ca0368583e",
        "colab": {
          "base_uri": "https://localhost:8080/",
          "height": 238
        }
      },
      "source": [
        "#Output of GridSearchCV\n",
        "print('Best score: ',clf.best_score_)\n",
        "print('k value with best score: ',clf.best_params_)\n",
        "print('\\n\\n')\n",
        "print('Train AUC scores')\n",
        "print(clf.cv_results_['mean_train_score'])\n",
        "print('CV AUC scores')\n",
        "print(clf.cv_results_['mean_test_score'])"
      ],
      "execution_count": null,
      "outputs": [
        {
          "output_type": "stream",
          "text": [
            "Best score:  0.7031023139780251\n",
            "k value with best score:  {'alpha': 0.5}\n",
            "===========================================================================\n",
            "Train AUC scores\n",
            "[0.80765159 0.80674006 0.80621976 0.80462009 0.80372402 0.80101006\n",
            " 0.79949707 0.79481499 0.79203875 0.78169359 0.77364495 0.7337124\n",
            " 0.70484898 0.62252653 0.52000368 0.50001292 0.50004511 0.5\n",
            " 0.50002097 0.50017783]\n",
            "CV AUC scores\n",
            "[0.68100622 0.68400124 0.68542913 0.68902898 0.69067896 0.69461905\n",
            " 0.69632507 0.70007263 0.70148229 0.70310231 0.70180987 0.68292428\n",
            " 0.66503933 0.60654816 0.51596703 0.50001293 0.50004513 0.5\n",
            " 0.50002098 0.50017787]\n"
          ],
          "name": "stdout"
        }
      ]
    },
    {
      "cell_type": "code",
      "metadata": {
        "id": "rcbCMXI5407e"
      },
      "source": [
        "def pred_prob(clf, data): \n",
        "    y_pred = []\n",
        "    y_pred = clf.predict_proba(data)[:,1]\n",
        "    return y_pred"
      ],
      "execution_count": null,
      "outputs": []
    },
    {
      "cell_type": "code",
      "metadata": {
        "id": "gAHWRkK540zE",
        "outputId": "ca95639d-41cc-4e45-eae9-a729cbaeb837",
        "colab": {
          "base_uri": "https://localhost:8080/",
          "height": 513
        }
      },
      "source": [
        "from sklearn.metrics import roc_curve, auc\n",
        "\n",
        "nb_bow = MultinomialNB(alpha = clf.best_params_['alpha'],class_prior = [0.5,0.5])\n",
        "\n",
        "nb_bow.fit(X_train_bow, y_train)\n",
        "# roc_auc_score(y_true, y_score) the 2nd parameter should be probability estimates of the positive class\n",
        "# not the predicted outputs\n",
        "\n",
        "y_train_pred = pred_prob(nb_bow,X_train_bow)\n",
        "y_test_pred = pred_prob(nb_bow,X_test_bow)\n",
        "\n",
        "train_fpr, train_tpr, tr_thresholds = roc_curve(y_train, y_train_pred)\n",
        "test_fpr, test_tpr, te_thresholds = roc_curve(y_test, y_test_pred)\n",
        "\n",
        "plt.plot(train_fpr, train_tpr, label=\"Train AUC =\"+str(auc(train_fpr, train_tpr)))\n",
        "plt.plot(test_fpr, test_tpr, label=\"Test AUC =\"+str(auc(test_fpr, test_tpr)))\n",
        "plt.legend()\n",
        "plt.xlabel(\"False Positive Rate(FPR)\")\n",
        "plt.ylabel(\"True Positive Rate(TPR)\")\n",
        "plt.title(\"AUC\")\n",
        "plt.grid()\n",
        "plt.show()"
      ],
      "execution_count": null,
      "outputs": [
        {
          "output_type": "display_data",
          "data": {
            "image/png": "[encoded data removed]",
            "text/plain": [
              "<Figure size 1152x576 with 1 Axes>"
            ]
          },
          "metadata": {
            "tags": [],
            "needs_background": "light"
          }
        }
      ]
    },
    {
      "cell_type": "code",
      "metadata": {
        "id": "khHOoKTszwBA"
      },
      "source": [
        "def find_best_threshold(threshold, fpr, tpr):\n",
        "    t = threshold[np.argmax(tpr*(1-fpr))]\n",
        "    # (tpr*(1-fpr)) will be maximum if your fpr is very low and tpr is very high\n",
        "    print(\"the maximum value of tpr*(1-fpr)\", max(tpr*(1-fpr)), \"for threshold\", np.round(t,3))\n",
        "    return t\n",
        "\n",
        "def predict_with_best_t(proba, threshold):\n",
        "    predictions = []\n",
        "    for i in proba:\n",
        "        if i>=threshold:\n",
        "            predictions.append(1)\n",
        "        else:\n",
        "            predictions.append(0)\n",
        "    return predictions"
      ],
      "execution_count": null,
      "outputs": []
    },
    {
      "cell_type": "code",
      "metadata": {
        "id": "I5VeA5RI6tMr",
        "outputId": "7176a9c7-6d7e-4158-dfe8-3d6921c2aa21",
        "colab": {
          "base_uri": "https://localhost:8080/",
          "height": 966
        }
      },
      "source": [
        "fig = plt.figure()\n",
        "ax = fig.add_subplot(111)\n",
        "best_t = find_best_threshold(tr_thresholds, train_fpr, train_tpr)\n",
        "cm = confusion_matrix(y_train, predict_with_best_t(y_train_pred, best_t))\n",
        "sns.heatmap(cm, annot=True, fmt='d')\n",
        "\n",
        "plt.show(ax)\n",
        "\n",
        "\n",
        "fig = plt.figure()\n",
        "ax1 = fig.add_subplot(111)\n",
        "cm = confusion_matrix(y_test, predict_with_best_t(y_test_pred, best_t))\n",
        "sns.heatmap(cm, annot=True, fmt='d')\n",
        "\n",
        "plt.show(ax1)"
      ],
      "execution_count": null,
      "outputs": [
        {
          "output_type": "stream",
          "text": [
            "the maximum value of tpr*(1-fpr) 0.5032520958333053 for threshold 0.488\n"
          ],
          "name": "stdout"
        },
        {
          "output_type": "display_data",
          "data": {
            "image/png": "[encoded data removed]",
            "text/plain": [
              "<Figure size 1152x576 with 2 Axes>"
            ]
          },
          "metadata": {
            "tags": [],
            "needs_background": "light"
          }
        },
        {
          "output_type": "display_data",
          "data": {
            "image/png": "[encoded data removed]",
            "text/plain": [
              "<Figure size 1152x576 with 2 Axes>"
            ]
          },
          "metadata": {
            "tags": [],
            "needs_background": "light"
          }
        }
      ]
    },
    {
      "cell_type": "code",
      "metadata": {
        "id": "RVZSLv716tao"
      },
      "source": [
        "neg_class_prob_sorted = nb_bow.feature_log_prob_[0, :].argsort()   #class 0\n",
        "pos_class_prob_sorted = nb_bow.feature_log_prob_[1, :].argsort()   #class1"
      ],
      "execution_count": null,
      "outputs": []
    },
    {
      "cell_type": "code",
      "metadata": {
        "id": "0qpxldCg6_5D",
        "outputId": "6fdeefda-f249-40e6-d68a-4d87c792045e",
        "colab": {
          "base_uri": "https://localhost:8080/",
          "height": 34
        }
      },
      "source": [
        "print(neg_class_prob_sorted[-10:],pos_class_prob_sorted[-10:])"
      ],
      "execution_count": null,
      "outputs": [
        {
          "output_type": "stream",
          "text": [
            "[14519  8878  8228  6507  7792  9015  2875  7796 11572 12719] [14519  8878  8228  6507  7792  9015  2875  7796 11572 12719]\n"
          ],
          "name": "stdout"
        }
      ]
    },
    {
      "cell_type": "code",
      "metadata": {
        "id": "HZ1Lzg9a6_9p",
        "outputId": "2c942f11-ee10-4f32-c879-72d54cd291f0",
        "colab": {
          "base_uri": "https://localhost:8080/",
          "height": 190
        }
      },
      "source": [
        "print('Top 10 features from negative class:')\n",
        "print(np.take(feature_names_bow, neg_class_prob_sorted[-10:]))\n",
        "print('----'*50)\n",
        "print('\\n\\nTop 10 features from positive class:')\n",
        "print(np.take(feature_names_tfidf, pos_class_prob_sorted[-10:]))"
      ],
      "execution_count": null,
      "outputs": [
        {
          "output_type": "stream",
          "text": [
            "Top 10 features from negative class:\n",
            "['workbook' 'neediest' 'maple' 'helper' 'learner' 'notably' 'classwork'\n",
            " 'learniture' 'schooler' 'studies']\n",
            "--------------------------------------------------------------------------------------------------------------------------------------------------------------------------------------------------------\n",
            "\n",
            "\n",
            "Top 10 features from positive class:\n",
            "['workbook' 'neediest' 'maple' 'helper' 'learner' 'notably' 'classwork'\n",
            " 'learniture' 'schooler' 'studies']\n"
          ],
          "name": "stdout"
        }
      ]
    },
    {
      "cell_type": "code",
      "metadata": {
        "id": "7X7Q8HOP6tQd"
      },
      "source": [
        "from sklearn.model_selection import GridSearchCV\n",
        "from sklearn.naive_bayes import MultinomialNB\n",
        "nb = MultinomialNB(class_prior=[0.5,0.5])\n",
        "\n",
        "parameters = {'alpha':[0.00001, 0.00005, 0.0001, 0.0005, 0.001, 0.005, 0.01, 0.05, 0.1, 0.5, 1, 5, 10, 50, 100, 500, 1000, 2500, 5000, 10000]}\n",
        "\n",
        "clf = GridSearchCV(nb, parameters, cv= 10, scoring='roc_auc',return_train_score=True)\n",
        "\n",
        "clf.fit(X_train_tfidf, y_train)\n",
        "\n",
        "train_auc= clf.cv_results_['mean_train_score']\n",
        "train_auc_std = clf.cv_results_['std_train_score']\n",
        "cv_auc = clf.cv_results_['mean_test_score'] \n",
        "cv_auc_std = clf.cv_results_['std_test_score']"
      ],
      "execution_count": null,
      "outputs": []
    },
    {
      "cell_type": "code",
      "metadata": {
        "id": "s26msa7r9DHm",
        "outputId": "59e0a3ff-dffa-4f8e-b462-ba5d97bf6394",
        "colab": {
          "base_uri": "https://localhost:8080/",
          "height": 238
        }
      },
      "source": [
        "#Output of GridSearchCV\n",
        "print('Best score: ',clf.best_score_)\n",
        "print('k value with best score: ',clf.best_params_)\n",
        "print('='*75)\n",
        "print('Train AUC scores')\n",
        "print(clf.cv_results_['mean_train_score'])\n",
        "print('CV AUC scores')\n",
        "print(clf.cv_results_['mean_test_score'])"
      ],
      "execution_count": null,
      "outputs": [
        {
          "output_type": "stream",
          "text": [
            "Best score:  0.6656149862268059\n",
            "k value with best score:  {'alpha': 0.05}\n",
            "===========================================================================\n",
            "Train AUC scores\n",
            "[0.79033415 0.78910496 0.78837744 0.78603591 0.78465737 0.78015965\n",
            " 0.77738655 0.76689881 0.75885423 0.71991889 0.69049958 0.61307049\n",
            " 0.58722637 0.55090408 0.54268021 0.53351009 0.53197079 0.53082074\n",
            " 0.53014616 0.5293167 ]\n",
            "CV AUC scores\n",
            "[0.64959881 0.65219535 0.6535107  0.65693939 0.65851609 0.66219452\n",
            " 0.66361062 0.66561499 0.66499881 0.65152569 0.6359703  0.58752091\n",
            " 0.56999316 0.54414701 0.53806533 0.53158074 0.53063975 0.52998554\n",
            " 0.5295392  0.52885703]\n"
          ],
          "name": "stdout"
        }
      ]
    },
    {
      "cell_type": "code",
      "metadata": {
        "id": "wO3YKRtX9DN0",
        "outputId": "392e0b7b-7488-4d9a-ba64-386a91d357ff",
        "colab": {
          "base_uri": "https://localhost:8080/",
          "height": 513
        }
      },
      "source": [
        "\n",
        "# https://scikit-learn.org/stable/modules/generated/sklearn.metrics.roc_curve.html#sklearn.metrics.roc_curve\n",
        "from sklearn.metrics import roc_curve, auc\n",
        "\n",
        "nb_tfidf = MultinomialNB(alpha = clf.best_params_['alpha'],class_prior = [0.5,0.5])\n",
        "\n",
        "nb_tfidf.fit(X_train_tfidf, y_train)\n",
        "# roc_auc_score(y_true, y_score) the 2nd parameter should be probability estimates of the positive class\n",
        "# not the predicted outputs\n",
        "\n",
        "y_train_pred = pred_prob(nb_tfidf, X_train_tfidf)    \n",
        "y_test_pred = pred_prob(nb_tfidf, X_test_tfidf)\n",
        "\n",
        "train_fpr, train_tpr, tr_thresholds = roc_curve(y_train, y_train_pred)\n",
        "test_fpr, test_tpr, te_thresholds = roc_curve(y_test, y_test_pred)\n",
        "\n",
        "plt.plot(train_fpr, train_tpr, label=\"Train AUC =\"+str(auc(train_fpr, train_tpr)))\n",
        "plt.plot(test_fpr, test_tpr, label=\"Test AUC =\"+str(auc(test_fpr, test_tpr)))\n",
        "plt.legend()\n",
        "plt.xlabel(\"False Positive Rate(FPR)\")\n",
        "plt.ylabel(\"True Positive Rate(TPR)\")\n",
        "plt.title(\"AUC\")\n",
        "plt.grid()\n",
        "plt.show()"
      ],
      "execution_count": null,
      "outputs": [
        {
          "output_type": "display_data",
          "data": {
            "image/png": "[encoded data removed]",
            "text/plain": [
              "<Figure size 1152x576 with 1 Axes>"
            ]
          },
          "metadata": {
            "tags": [],
            "needs_background": "light"
          }
        }
      ]
    },
    {
      "cell_type": "code",
      "metadata": {
        "id": "CQzZOizH9Dcp",
        "outputId": "445a6f5b-fd79-4d18-e833-c025b958d60c",
        "colab": {
          "base_uri": "https://localhost:8080/",
          "height": 1000
        }
      },
      "source": [
        "fig = plt.figure()\n",
        "ax = fig.add_subplot(111)\n",
        "print(\"Train Data confusion matrix\")\n",
        "best_t = find_best_threshold(tr_thresholds, train_fpr, train_tpr)\n",
        "cm = confusion_matrix(y_train, predict_with_best_t(y_train_pred, best_t))\n",
        "sns.heatmap(cm, annot=True, fmt='d')\n",
        "\n",
        "plt.show(ax1)\n",
        "\n",
        "\n",
        "print(\"Test data confusion matrix\")\n",
        "fig = plt.figure()\n",
        "ax1 = fig.add_subplot(111)\n",
        "cm = confusion_matrix(y_test, predict_with_best_t(y_test_pred, best_t))\n",
        "sns.heatmap(cm, annot=True, fmt='d')\n",
        "\n",
        "plt.show(ax1)"
      ],
      "execution_count": null,
      "outputs": [
        {
          "output_type": "stream",
          "text": [
            "Train Data confusion matrix\n",
            "the maximum value of tpr*(1-fpr) 0.46909285793074185 for threshold 0.518\n"
          ],
          "name": "stdout"
        },
        {
          "output_type": "display_data",
          "data": {
            "image/png": "[encoded data removed]",
            "text/plain": [
              "<Figure size 1152x576 with 2 Axes>"
            ]
          },
          "metadata": {
            "tags": [],
            "needs_background": "light"
          }
        },
        {
          "output_type": "stream",
          "text": [
            "Test data confusion matrix\n"
          ],
          "name": "stdout"
        },
        {
          "output_type": "display_data",
          "data": {
            "image/png": "[encoded data removed]",
            "text/plain": [
              "<Figure size 1152x576 with 2 Axes>"
            ]
          },
          "metadata": {
            "tags": [],
            "needs_background": "light"
          }
        }
      ]
    },
    {
      "cell_type": "code",
      "metadata": {
        "id": "QirDs9aK9Dhv"
      },
      "source": [
        "neg_class_prob_sorted = nb_bow.feature_log_prob_[0, :].argsort()   #class 0\n",
        "pos_class_prob_sorted = nb_bow.feature_log_prob_[1, :].argsort()   #class1"
      ],
      "execution_count": null,
      "outputs": []
    },
    {
      "cell_type": "code",
      "metadata": {
        "id": "A56KEZPF9DaN",
        "outputId": "0818fe65-6383-4c79-f305-422a22fc7a5f",
        "colab": {
          "base_uri": "https://localhost:8080/",
          "height": 34
        }
      },
      "source": [
        "print(neg_class_prob_sorted[-10:],pos_class_prob_sorted[-10:])"
      ],
      "execution_count": null,
      "outputs": [
        {
          "output_type": "stream",
          "text": [
            "[14519  8878  8228  6507  7792  9015  2875  7796 11572 12719] [14519  8878  8228  6507  7792  9015  2875  7796 11572 12719]\n"
          ],
          "name": "stdout"
        }
      ]
    },
    {
      "cell_type": "code",
      "metadata": {
        "id": "JcydBtkI9DXY",
        "outputId": "0a36a7a3-0da4-4091-e3a3-c78fe7a70f06",
        "colab": {
          "base_uri": "https://localhost:8080/",
          "height": 136
        }
      },
      "source": [
        "\n",
        "print('Top 10 features from negative class:')\n",
        "print(np.take(feature_names_bow, neg_class_prob_sorted[-10:]))\n",
        "print('-*'*50)\n",
        "print('Top 10 features from positive class:')\n",
        "print(np.take(feature_names_tfidf, pos_class_prob_sorted[-10:]))"
      ],
      "execution_count": null,
      "outputs": [
        {
          "output_type": "stream",
          "text": [
            "Top 10 features from negative class:\n",
            "['workbook' 'neediest' 'maple' 'helper' 'learner' 'notably' 'classwork'\n",
            " 'learniture' 'schooler' 'studies']\n",
            "-*-*-*-*-*-*-*-*-*-*-*-*-*-*-*-*-*-*-*-*-*-*-*-*-*-*-*-*-*-*-*-*-*-*-*-*-*-*-*-*-*-*-*-*-*-*-*-*-*-*\n",
            "Top 10 features from positive class:\n",
            "['workbook' 'neediest' 'maple' 'helper' 'learner' 'notably' 'classwork'\n",
            " 'learniture' 'schooler' 'studies']\n"
          ],
          "name": "stdout"
        }
      ]
    },
    {
      "cell_type": "code",
      "metadata": {
        "id": "BfLGuexd9DVN",
        "outputId": "031409ce-088c-4d6c-8b13-0af911bc71dc",
        "colab": {
          "base_uri": "https://localhost:8080/",
          "height": 119
        }
      },
      "source": [
        "\n",
        "# Please compare all your models using Prettytable library\n",
        "# Please compare all your models using Prettytable library\n",
        "# http://zetcode.com/python/prettytable/\n",
        "\n",
        "from prettytable import PrettyTable\n",
        "\n",
        "#If you get a ModuleNotFoundError error , install prettytable using: pip3 install prettytable\n",
        "\n",
        "x = PrettyTable()\n",
        "x.field_names = [\" Vectorizer \", \" Model \", \" Hyper Parameter \", \" Test-AUC \"]\n",
        "\n",
        "x.add_row([\" BOW \", \" Naive Bayes \", 0.5, 0.7031])\n",
        "x.add_row([\" TFIDF \", \" Naive Bayes \", 0.05, 0.6656])\n",
        "\n",
        "print(x)"
      ],
      "execution_count": null,
      "outputs": [
        {
          "output_type": "stream",
          "text": [
            "+--------------+---------------+-------------------+------------+\n",
            "|  Vectorizer  |     Model     |  Hyper Parameter  |  Test-AUC  |\n",
            "+--------------+---------------+-------------------+------------+\n",
            "|     BOW      |  Naive Bayes  |        0.5        |   0.7031   |\n",
            "|    TFIDF     |  Naive Bayes  |        0.05       |   0.6656   |\n",
            "+--------------+---------------+-------------------+------------+\n"
          ],
          "name": "stdout"
        }
      ]
    },
    {
      "cell_type": "code",
      "metadata": {
        "id": "mWe3cnQb9DLm"
      },
      "source": [
        ""
      ],
      "execution_count": null,
      "outputs": []
    }
  ]
}